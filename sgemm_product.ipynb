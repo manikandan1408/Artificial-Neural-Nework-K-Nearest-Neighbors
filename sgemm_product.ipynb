{
 "cells": [
  {
   "cell_type": "code",
   "execution_count": 1,
   "metadata": {},
   "outputs": [],
   "source": [
    "import pandas as pd\n",
    "import numpy as np\n",
    "import os"
   ]
  },
  {
   "cell_type": "code",
   "execution_count": 2,
   "metadata": {},
   "outputs": [],
   "source": [
    "os.chdir('C:/Users/manit/OneDrive/Desktop/Masters/Spring20/Sabir/data')\n",
    "df = pd.read_csv(\"sgemm_product.csv\")\n",
    "pd.DataFrame.rename(df,columns={'Run1 (ms)':'Run1','Run2 (ms)':'Run2','Run3 (ms)':'Run3', 'Run4 (ms)':'Run4'},inplace =True)\n",
    "df['AverageRun']=df.apply(lambda row:(row.Run1+row.Run2+row.Run3+row.Run4)/4,axis=1)\n",
    "df = df.drop([\"Run1\",\"Run2\",\"Run3\",\"Run4\"], axis=1)"
   ]
  },
  {
   "cell_type": "code",
   "execution_count": 3,
   "metadata": {},
   "outputs": [
    {
     "name": "stdout",
     "output_type": "stream",
     "text": [
      "217.571953093958\n"
     ]
    }
   ],
   "source": [
    "mean_run=np.mean(df[\"AverageRun\"],axis=0)\n",
    "print(mean_run)\n",
    "df[\"run_class\"]=np.where(df['AverageRun']>=mean_run, 1, 0)\n",
    "y=df[\"run_class\"].astype(\"category\")\n",
    "x=df.iloc[:,0:14]"
   ]
  },
  {
   "cell_type": "code",
   "execution_count": 11,
   "metadata": {},
   "outputs": [
    {
     "data": {
      "text/plain": [
       "(72480,)"
      ]
     },
     "execution_count": 11,
     "metadata": {},
     "output_type": "execute_result"
    }
   ],
   "source": [
    "from sklearn import preprocessing\n",
    "from sklearn.model_selection import train_test_split\n",
    "x_train, x_test, y_train, y_test = train_test_split(x, y, train_size=0.7, random_state=1)\n",
    "std_Xtrain = preprocessing.scale(x_train)\n",
    "std_Xtest = preprocessing.scale(x_test)\n",
    "std_Xtest.shape\n",
    "y_test.shape"
   ]
  },
  {
   "cell_type": "code",
   "execution_count": 12,
   "metadata": {},
   "outputs": [
    {
     "name": "stdout",
     "output_type": "stream",
     "text": [
      "The tensorboard extension is already loaded. To reload it, use:\n",
      "  %reload_ext tensorboard\n"
     ]
    }
   ],
   "source": [
    "%load_ext tensorboard"
   ]
  },
  {
   "cell_type": "code",
   "execution_count": 13,
   "metadata": {},
   "outputs": [],
   "source": [
    "import tensorflow as tf\n",
    "from tensorflow import keras\n",
    "import matplotlib.pyplot as plt\n",
    "from sklearn.metrics import confusion_matrix, classification_report, roc_curve, accuracy_score, roc_auc_score"
   ]
  },
  {
   "cell_type": "code",
   "execution_count": 46,
   "metadata": {},
   "outputs": [],
   "source": [
    "from keras.models import Sequential\n",
    "from keras.layers import Dropout\n",
    "from keras.layers import Dense, Activation\n",
    "from sklearn.model_selection import GridSearchCV\n",
    "from keras.wrappers.scikit_learn import KerasClassifier"
   ]
  },
  {
   "cell_type": "code",
   "execution_count": 26,
   "metadata": {},
   "outputs": [
    {
     "name": "stdout",
     "output_type": "stream",
     "text": [
      "Epoch 1/10\n",
      "169120/169120 [==============================] - 4s 24us/step - loss: 0.1225 - accuracy: 0.9497\n",
      "Epoch 2/10\n",
      "169120/169120 [==============================] - 4s 23us/step - loss: 0.0718 - accuracy: 0.9691\n",
      "Epoch 3/10\n",
      "169120/169120 [==============================] - 4s 24us/step - loss: 0.0564 - accuracy: 0.9761\n",
      "Epoch 4/10\n",
      "169120/169120 [==============================] - 4s 25us/step - loss: 0.0483 - accuracy: 0.9795\n",
      "Epoch 5/10\n",
      "169120/169120 [==============================] - 4s 25us/step - loss: 0.0433 - accuracy: 0.9820\n",
      "Epoch 6/10\n",
      "169120/169120 [==============================] - 4s 24us/step - loss: 0.0399 - accuracy: 0.9834\n",
      "Epoch 7/10\n",
      "169120/169120 [==============================] - 4s 26us/step - loss: 0.0380 - accuracy: 0.9843\n",
      "Epoch 8/10\n",
      "169120/169120 [==============================] - 5s 27us/step - loss: 0.0360 - accuracy: 0.9854\n",
      "Epoch 9/10\n",
      "169120/169120 [==============================] - 4s 26us/step - loss: 0.0346 - accuracy: 0.9855\n",
      "Epoch 10/10\n",
      "169120/169120 [==============================] - 4s 26us/step - loss: 0.0335 - accuracy: 0.9860\n",
      "\n",
      "Test accuracy: 0.9845336675643921\n",
      "\n",
      "Train accuracy: 0.9850638508796692\n"
     ]
    }
   ],
   "source": [
    "model = Sequential()\n",
    "model.add(Dense(50, input_dim=14, activation=\"relu\"))\n",
    "model.add(Dense(30, activation=\"relu\"))\n",
    "model.add(Dense(1, activation=\"sigmoid\"))\n",
    "\n",
    "model.compile(optimizer=\"adam\",\n",
    "              loss='binary_crossentropy',\n",
    "              metrics=['accuracy'])\n",
    "model.fit(std_Xtrain, y_train, epochs=10)\n",
    "test_loss3, test_acc3 = model.evaluate(std_Xtest,  y_test, verbose=2)\n",
    "train_loss3,train_acc3 = model.evaluate(std_Xtrain,  y_train, verbose=2)\n",
    "\n",
    "print('\\nTest accuracy:', test_acc3)\n",
    "print('\\nTrain accuracy:', train_acc3)"
   ]
  },
  {
   "cell_type": "code",
   "execution_count": 27,
   "metadata": {},
   "outputs": [
    {
     "name": "stdout",
     "output_type": "stream",
     "text": [
      "Epoch 1/10\n",
      " - 4s - loss: 0.1664 - accuracy: 0.9294\n",
      "Epoch 2/10\n",
      " - 5s - loss: 0.0991 - accuracy: 0.9579\n",
      "Epoch 3/10\n",
      " - 4s - loss: 0.0818 - accuracy: 0.9640\n",
      "Epoch 4/10\n",
      " - 4s - loss: 0.0753 - accuracy: 0.9656\n",
      "Epoch 5/10\n",
      " - 4s - loss: 0.0704 - accuracy: 0.9680\n",
      "Epoch 6/10\n",
      " - 4s - loss: 0.0668 - accuracy: 0.9706\n",
      "Epoch 7/10\n",
      " - 4s - loss: 0.0639 - accuracy: 0.9724\n",
      "Epoch 8/10\n",
      " - 5s - loss: 0.0611 - accuracy: 0.9733\n",
      "Epoch 9/10\n",
      " - 5s - loss: 0.0595 - accuracy: 0.9744\n",
      "Epoch 10/10\n",
      " - 4s - loss: 0.0580 - accuracy: 0.9752\n",
      "Best: 0.973610 using {'neurons': 20}\n",
      "0.972919 with: {'neurons': 10}\n",
      "0.973610 with: {'neurons': 20}\n",
      "0.972250 with: {'neurons': 30}\n",
      "0.972724 with: {'neurons': 40}\n",
      "0.970873 with: {'neurons': 50}\n"
     ]
    }
   ],
   "source": [
    "def createmodel(neurons=10):\n",
    "  \n",
    "  model = Sequential()\n",
    "  model.add(Dense(20, input_dim=14, activation='relu'))\n",
    "  model.add(Dense(10, activation='relu'))\n",
    "  model.add(Dense(1, activation='sigmoid'))\n",
    "\n",
    "  model.compile(optimizer='adam',\n",
    "                loss='binary_crossentropy',\n",
    "                metrics=['accuracy'])\n",
    "  return model\n",
    "model = KerasClassifier(build_fn=createmodel, epochs=10, verbose=2)\n",
    "# define the grid search parameters\n",
    "neurons = [10, 20, 30,40,50]\n",
    "param_grid = dict(neurons=neurons)\n",
    "grid = GridSearchCV(estimator=model, param_grid=param_grid, n_jobs=-1, cv=3)\n",
    "grid_result = grid.fit(std_Xtrain, y_train)\n",
    "\n",
    "print(\"Best: %f using %s\" % (grid_result.best_score_, grid_result.best_params_))\n",
    "means = grid_result.cv_results_['mean_test_score']\n",
    "params = grid_result.cv_results_['params']\n",
    "\n",
    "for mean,param in zip(means,params):\n",
    "    print(\"%f with: %r\" % (mean, param))\n"
   ]
  },
  {
   "cell_type": "code",
   "execution_count": 28,
   "metadata": {},
   "outputs": [
    {
     "name": "stdout",
     "output_type": "stream",
     "text": [
      "Epoch 1/10\n",
      "169120/169120 [==============================] - 7s 44us/step - loss: 0.1014 - accuracy: 0.9575\n",
      "Epoch 2/10\n",
      "169120/169120 [==============================] - 9s 56us/step - loss: 0.0586 - accuracy: 0.9746\n",
      "Epoch 3/10\n",
      "169120/169120 [==============================] - 9s 53us/step - loss: 0.0483 - accuracy: 0.9794\n",
      "Epoch 4/10\n",
      "169120/169120 [==============================] - 10s 59us/step - loss: 0.0416 - accuracy: 0.9821\n",
      "Epoch 5/10\n",
      "169120/169120 [==============================] - 11s 63us/step - loss: 0.0374 - accuracy: 0.9839\n",
      "Epoch 6/10\n",
      "169120/169120 [==============================] - 10s 57us/step - loss: 0.0341 - accuracy: 0.9858\n",
      "Epoch 7/10\n",
      "169120/169120 [==============================] - 9s 53us/step - loss: 0.0322 - accuracy: 0.9861\n",
      "Epoch 8/10\n",
      "169120/169120 [==============================] - 9s 55us/step - loss: 0.0299 - accuracy: 0.9876\n",
      "Epoch 9/10\n",
      "169120/169120 [==============================] - 9s 52us/step - loss: 0.0283 - accuracy: 0.9884\n",
      "Epoch 10/10\n",
      "169120/169120 [==============================] - 8s 47us/step - loss: 0.0269 - accuracy: 0.9891\n",
      "\n",
      "Test accuracy: 0.9887692928314209\n",
      "\n",
      "Train accuracy: 0.9905333518981934\n"
     ]
    }
   ],
   "source": [
    "train_errors=[]\n",
    "test_errors=[]\n",
    "model = Sequential()\n",
    "model.add(Dense(50, input_dim=14, activation='relu'))\n",
    "model.add(Dense(40, activation='relu'))\n",
    "model.add(Dense(30, activation='relu'))\n",
    "model.add(Dense(20, activation='relu'))\n",
    "\n",
    "model.add(Dense(1, activation='sigmoid'))\n",
    "\n",
    "model.compile(optimizer='adam',\n",
    "              loss='binary_crossentropy',\n",
    "              metrics=['accuracy'])\n",
    "model.fit(std_Xtrain, y_train, epochs=10,batch_size=20)\n",
    "test_loss, test_acc = model.evaluate(std_Xtest,  y_test, verbose=2)\n",
    "train_loss, train_acc = model.evaluate(std_Xtrain,  y_train, verbose=2)\n",
    "print('\\nTest accuracy:', test_acc)\n",
    "print('\\nTrain accuracy:', train_acc)"
   ]
  },
  {
   "cell_type": "code",
   "execution_count": 29,
   "metadata": {},
   "outputs": [
    {
     "name": "stdout",
     "output_type": "stream",
     "text": [
      "Epoch 1/10\n",
      "169120/169120 [==============================] - 8s 47us/step - loss: 0.1026 - accuracy: 0.9565\n",
      "Epoch 2/10\n",
      "169120/169120 [==============================] - 8s 46us/step - loss: 0.0615 - accuracy: 0.9733\n",
      "Epoch 3/10\n",
      "169120/169120 [==============================] - 8s 46us/step - loss: 0.0493 - accuracy: 0.9785\n",
      "Epoch 4/10\n",
      "169120/169120 [==============================] - 7s 44us/step - loss: 0.0434 - accuracy: 0.9815\n",
      "Epoch 5/10\n",
      "169120/169120 [==============================] - 7s 44us/step - loss: 0.0387 - accuracy: 0.9835\n",
      "Epoch 6/10\n",
      "169120/169120 [==============================] - 8s 46us/step - loss: 0.0357 - accuracy: 0.9850\n",
      "Epoch 7/10\n",
      "169120/169120 [==============================] - 9s 54us/step - loss: 0.0331 - accuracy: 0.9864\n",
      "Epoch 8/10\n",
      "169120/169120 [==============================] - 8s 49us/step - loss: 0.0307 - accuracy: 0.9875\n",
      "Epoch 9/10\n",
      "169120/169120 [==============================] - 8s 45us/step - loss: 0.0291 - accuracy: 0.9881\n",
      "Epoch 10/10\n",
      "169120/169120 [==============================] - 8s 46us/step - loss: 0.0277 - accuracy: 0.9888\n",
      "\n",
      "Test accuracy: 0.987472414970398\n",
      "\n",
      "Train accuracy: 0.9879316687583923\n"
     ]
    }
   ],
   "source": [
    "model = Sequential()\n",
    "model.add(Dense(50, input_dim=14, activation='relu'))\n",
    "model.add(Dense(40, activation='relu'))\n",
    "model.add(Dense(30, activation='relu'))\n",
    "model.add(Dense(1, activation='sigmoid'))\n",
    "\n",
    "model.compile(optimizer='adam',\n",
    "              loss='binary_crossentropy',\n",
    "              metrics=['accuracy'])\n",
    "model.fit(std_Xtrain, y_train, epochs=10,batch_size=20)\n",
    "test_loss1, test_acc1 = model.evaluate(std_Xtest,  y_test, verbose=2)\n",
    "train_loss1,train_acc1 = model.evaluate(std_Xtrain,  y_train, verbose=2)\n",
    "\n",
    "print('\\nTest accuracy:', test_acc1)\n",
    "print('\\nTrain accuracy:', train_acc1)"
   ]
  },
  {
   "cell_type": "code",
   "execution_count": 30,
   "metadata": {},
   "outputs": [
    {
     "name": "stdout",
     "output_type": "stream",
     "text": [
      "Epoch 1/10\n",
      "169120/169120 [==============================] - 7s 42us/step - loss: 0.1137 - accuracy: 0.9531\n",
      "Epoch 2/10\n",
      "169120/169120 [==============================] - 7s 43us/step - loss: 0.0682 - accuracy: 0.9710\n",
      "Epoch 3/10\n",
      "169120/169120 [==============================] - 8s 49us/step - loss: 0.0554 - accuracy: 0.9766 0s - loss:\n",
      "Epoch 4/10\n",
      "169120/169120 [==============================] - 8s 49us/step - loss: 0.0482 - accuracy: 0.9797\n",
      "Epoch 5/10\n",
      "169120/169120 [==============================] - 7s 43us/step - loss: 0.0435 - accuracy: 0.9815\n",
      "Epoch 6/10\n",
      "169120/169120 [==============================] - 7s 41us/step - loss: 0.0405 - accuracy: 0.9827\n",
      "Epoch 7/10\n",
      "169120/169120 [==============================] - 8s 45us/step - loss: 0.0374 - accuracy: 0.9844\n",
      "Epoch 8/10\n",
      "169120/169120 [==============================] - 7s 44us/step - loss: 0.0358 - accuracy: 0.9848\n",
      "Epoch 9/10\n",
      "169120/169120 [==============================] - 8s 46us/step - loss: 0.0336 - accuracy: 0.9859\n",
      "Epoch 10/10\n",
      "169120/169120 [==============================] - 8s 47us/step - loss: 0.0321 - accuracy: 0.9866\n",
      "\n",
      "Test accuracy: 0.9872240424156189\n",
      "\n",
      "Train accuracy: 0.9890255331993103\n"
     ]
    }
   ],
   "source": [
    "model = Sequential()\n",
    "model.add(Dense(50, input_dim=14, activation='relu'))\n",
    "model.add(Dense(40, activation='relu'))\n",
    "model.add(Dense(1, activation='sigmoid'))\n",
    "\n",
    "model.compile(optimizer='adam',\n",
    "              loss='binary_crossentropy',\n",
    "              metrics=['accuracy'])\n",
    "model.fit(std_Xtrain, y_train, epochs=10,batch_size=20)\n",
    "test_loss2, test_acc2 = model.evaluate(std_Xtest,  y_test, verbose=2)\n",
    "train_loss2,train_acc2 = model.evaluate(std_Xtrain,  y_train, verbose=2)\n",
    "\n",
    "print('\\nTest accuracy:', test_acc2)\n",
    "print('\\nTrain accuracy:', train_acc2)"
   ]
  },
  {
   "cell_type": "code",
   "execution_count": 31,
   "metadata": {},
   "outputs": [
    {
     "name": "stdout",
     "output_type": "stream",
     "text": [
      "Epoch 1/10\n",
      "169120/169120 [==============================] - 9s 51us/step - loss: 0.0997 - accuracy: 0.9578\n",
      "Epoch 2/10\n",
      "169120/169120 [==============================] - 9s 55us/step - loss: 0.0576 - accuracy: 0.9750\n",
      "Epoch 3/10\n",
      "169120/169120 [==============================] - 10s 59us/step - loss: 0.0462 - accuracy: 0.9801\n",
      "Epoch 4/10\n",
      "169120/169120 [==============================] - 9s 55us/step - loss: 0.0394 - accuracy: 0.9833\n",
      "Epoch 5/10\n",
      "169120/169120 [==============================] - 9s 51us/step - loss: 0.0335 - accuracy: 0.9861\n",
      "Epoch 6/10\n",
      "169120/169120 [==============================] - 9s 51us/step - loss: 0.0305 - accuracy: 0.9877\n",
      "Epoch 7/10\n",
      "169120/169120 [==============================] - 9s 51us/step - loss: 0.0277 - accuracy: 0.9887\n",
      "Epoch 8/10\n",
      "169120/169120 [==============================] - 9s 52us/step - loss: 0.0258 - accuracy: 0.9895\n",
      "Epoch 9/10\n",
      "169120/169120 [==============================] - 9s 52us/step - loss: 0.0240 - accuracy: 0.9907\n",
      "Epoch 10/10\n",
      "169120/169120 [==============================] - 9s 52us/step - loss: 0.0221 - accuracy: 0.9913\n",
      "\n",
      "Test accuracy: 0.9912665486335754\n",
      "\n",
      "Train accuracy: 0.9932119250297546\n"
     ]
    }
   ],
   "source": [
    "model = Sequential()\n",
    "model.add(Dense(70, input_dim=14, activation='relu'))\n",
    "model.add(Dense(50, activation='relu'))\n",
    "model.add(Dense(40, activation='relu'))\n",
    "model.add(Dense(30, activation='relu'))\n",
    "model.add(Dense(1, activation='sigmoid'))\n",
    "\n",
    "model.compile(optimizer='adam',\n",
    "              loss='binary_crossentropy',\n",
    "              metrics=['accuracy'])\n",
    "model.fit(std_Xtrain, y_train, epochs=10,batch_size=20)\n",
    "test_loss3, test_acc3 = model.evaluate(std_Xtest,  y_test, verbose=2)\n",
    "train_loss3,train_acc3 = model.evaluate(std_Xtrain,  y_train, verbose=2)\n",
    "\n",
    "print('\\nTest accuracy:', test_acc3)\n",
    "print('\\nTrain accuracy:', train_acc3)"
   ]
  },
  {
   "cell_type": "code",
   "execution_count": 32,
   "metadata": {},
   "outputs": [
    {
     "data": {
      "image/png": "[encoded data removed]",
      "text/plain": [
       "<Figure size 432x288 with 1 Axes>"
      ]
     },
     "metadata": {
      "needs_background": "light"
     },
     "output_type": "display_data"
    },
    {
     "data": {
      "text/plain": [
       "[0.9872240424156189, 0.987472414970398, 0.9912665486335754]"
      ]
     },
     "execution_count": 32,
     "metadata": {},
     "output_type": "execute_result"
    }
   ],
   "source": [
    "train_errors=[train_acc2,train_acc1,train_acc3]\n",
    "test_errors=[test_acc2,test_acc1,test_acc3]\n",
    "x=[2,3,4]\n",
    "plt.figure()\n",
    "plt.plot(x,train_errors,label='train accuracy')\n",
    "plt.plot(x,test_errors,label='test accuracy')\n",
    "plt.xlabel(\"Number of layers\")\n",
    "plt.xticks([2,3,4])\n",
    "plt.ylabel(\"Accuracy\")\n",
    "plt.legend()\n",
    "plt.show()\n",
    "\n",
    "train_errors\n",
    "test_errors"
   ]
  },
  {
   "cell_type": "code",
   "execution_count": 34,
   "metadata": {},
   "outputs": [
    {
     "name": "stdout",
     "output_type": "stream",
     "text": [
      "Epoch 1/10\n",
      " - 5s - loss: 0.1122 - accuracy: 0.9530\n",
      "Epoch 2/10\n",
      " - 5s - loss: 0.0621 - accuracy: 0.9732\n",
      "Epoch 3/10\n",
      " - 5s - loss: 0.0484 - accuracy: 0.9796\n",
      "Epoch 4/10\n",
      " - 5s - loss: 0.0410 - accuracy: 0.9828\n",
      "Epoch 5/10\n",
      " - 5s - loss: 0.0363 - accuracy: 0.9847\n",
      "Epoch 6/10\n",
      " - 4s - loss: 0.0331 - accuracy: 0.9864\n",
      "Epoch 7/10\n",
      " - 5s - loss: 0.0302 - accuracy: 0.9875\n",
      "Epoch 8/10\n",
      " - 5s - loss: 0.0277 - accuracy: 0.9889\n",
      "Epoch 9/10\n",
      " - 5s - loss: 0.0264 - accuracy: 0.9894\n",
      "Epoch 10/10\n",
      " - 5s - loss: 0.0242 - accuracy: 0.9903\n",
      "Best: 0.985555 using {'neurons': 50}\n",
      "0.980830 with: {'neurons': 20}\n",
      "0.983473 with: {'neurons': 30}\n",
      "0.985324 with: {'neurons': 40}\n",
      "0.985555 with: {'neurons': 50}\n"
     ]
    },
    {
     "data": {
      "image/png": "[encoded data removed]",
      "text/plain": [
       "<Figure size 432x288 with 1 Axes>"
      ]
     },
     "metadata": {
      "needs_background": "light"
     },
     "output_type": "display_data"
    }
   ],
   "source": [
    "def createmodel(neurons=20):\n",
    "  \n",
    "  \n",
    "  model = Sequential()\n",
    "  model.add(Dense(neurons, input_dim=14, activation='relu'))\n",
    "  model.add(Dense(50, input_dim=14, activation='relu'))\n",
    "  model.add(Dense(30, activation='relu'))\n",
    "  model.add(Dense(1, activation='sigmoid'))\n",
    "\n",
    "  model.compile(optimizer='adam',\n",
    "                loss='binary_crossentropy',\n",
    "                metrics=['accuracy'])\n",
    "  return model\n",
    "\n",
    "model = KerasClassifier(build_fn=createmodel, epochs=10, verbose=2)\n",
    "# define the grid search parameters\n",
    "neurons = [20,30,40,50]\n",
    "param_grid = dict(neurons=neurons)\n",
    "grid = GridSearchCV(estimator=model, param_grid=param_grid, n_jobs=-1, cv=3)\n",
    "grid_result = grid.fit(std_Xtrain, y_train)\n",
    "\n",
    "print(\"Best: %f using %s\" % (grid_result.best_score_, grid_result.best_params_))\n",
    "means = grid_result.cv_results_['mean_test_score']\n",
    "params = grid_result.cv_results_['params']\n",
    "\n",
    "for mean,param in zip(means,params):\n",
    "    print(\"%f with: %r\" % (mean, param))\n",
    "plt.figure()\n",
    "plt.plot([20,30,40,50],means)\n",
    "plt.show()"
   ]
  },
  {
   "cell_type": "code",
   "execution_count": 36,
   "metadata": {},
   "outputs": [
    {
     "name": "stdout",
     "output_type": "stream",
     "text": [
      "Epoch 1/10\n",
      " - 6s - loss: 0.1167 - accuracy: 0.9518\n",
      "Epoch 2/10\n",
      " - 7s - loss: 0.0672 - accuracy: 0.9713\n",
      "Epoch 3/10\n",
      " - 7s - loss: 0.0542 - accuracy: 0.9768\n",
      "Epoch 4/10\n",
      " - 6s - loss: 0.0478 - accuracy: 0.9794\n",
      "Epoch 5/10\n",
      " - 7s - loss: 0.0435 - accuracy: 0.9809\n",
      "Epoch 6/10\n",
      " - 7s - loss: 0.0405 - accuracy: 0.9826\n",
      "Epoch 7/10\n",
      " - 6s - loss: 0.0381 - accuracy: 0.9836\n",
      "Epoch 8/10\n",
      " - 6s - loss: 0.0360 - accuracy: 0.9845\n",
      "Epoch 9/10\n",
      " - 6s - loss: 0.0344 - accuracy: 0.9856\n",
      "Epoch 10/10\n",
      " - 6s - loss: 0.0331 - accuracy: 0.9860\n",
      "Best: 0.984295 using {'neurons': 20}\n",
      "0.979305 with: {'neurons': 5}\n",
      "0.981889 with: {'neurons': 10}\n",
      "0.984295 with: {'neurons': 20}\n"
     ]
    },
    {
     "data": {
      "image/png": "[encoded data removed]",
      "text/plain": [
       "<Figure size 432x288 with 1 Axes>"
      ]
     },
     "metadata": {
      "needs_background": "light"
     },
     "output_type": "display_data"
    }
   ],
   "source": [
    "def createmodel(neurons=5):\n",
    "  \n",
    "  \n",
    "  model = Sequential()\n",
    "  model.add(Dense(50, input_dim=14, activation='relu'))\n",
    "  model.add(Dense(neurons, input_dim=14, activation='relu'))\n",
    "  model.add(Dense(30, activation='relu'))\n",
    "  model.add(Dense(1, activation='sigmoid'))\n",
    "\n",
    "  model.compile(optimizer='adam',\n",
    "                loss='binary_crossentropy',\n",
    "                metrics=['accuracy'])\n",
    "  return model\n",
    "\n",
    "model = KerasClassifier(build_fn=createmodel, epochs=10, verbose=2)\n",
    "# define the grid search parameters\n",
    "neurons = [5,10,20]\n",
    "param_grid = dict(neurons=neurons)\n",
    "grid = GridSearchCV(estimator=model, param_grid=param_grid, n_jobs=-1, cv=3)\n",
    "grid_result = grid.fit(std_Xtrain, y_train)\n",
    "\n",
    "print(\"Best: %f using %s\" % (grid_result.best_score_, grid_result.best_params_))\n",
    "means = grid_result.cv_results_['mean_test_score']\n",
    "params = grid_result.cv_results_['params']\n",
    "\n",
    "for mean,param in zip(means,params):\n",
    "    print(\"%f with: %r\" % (mean, param))\n",
    "plt.figure()\n",
    "plt.plot([5,10,20],means)\n",
    "plt.show()"
   ]
  },
  {
   "cell_type": "code",
   "execution_count": 37,
   "metadata": {},
   "outputs": [
    {
     "name": "stdout",
     "output_type": "stream",
     "text": [
      "Epoch 1/10\n",
      " - 5s - loss: 0.1231 - accuracy: 0.9487\n",
      "Epoch 2/10\n",
      " - 5s - loss: 0.0709 - accuracy: 0.9700\n",
      "Epoch 3/10\n",
      " - 5s - loss: 0.0564 - accuracy: 0.9761\n",
      "Epoch 4/10\n",
      " - 5s - loss: 0.0488 - accuracy: 0.9798\n",
      "Epoch 5/10\n",
      " - 5s - loss: 0.0435 - accuracy: 0.9814\n",
      "Epoch 6/10\n",
      " - 5s - loss: 0.0405 - accuracy: 0.9830\n",
      "Epoch 7/10\n",
      " - 5s - loss: 0.0373 - accuracy: 0.9843\n",
      "Epoch 8/10\n",
      " - 6s - loss: 0.0350 - accuracy: 0.9852\n",
      "Epoch 9/10\n",
      " - 5s - loss: 0.0335 - accuracy: 0.9862\n",
      "Epoch 10/10\n",
      " - 6s - loss: 0.0318 - accuracy: 0.9868\n",
      "Best: 0.982504 using {'neurons': 10}\n",
      "0.982504 with: {'neurons': 10}\n",
      "0.982344 with: {'neurons': 15}\n",
      "0.982202 with: {'neurons': 20}\n"
     ]
    },
    {
     "data": {
      "image/png": "[encoded data removed]",
      "text/plain": [
       "<Figure size 432x288 with 1 Axes>"
      ]
     },
     "metadata": {
      "needs_background": "light"
     },
     "output_type": "display_data"
    }
   ],
   "source": [
    "def createmodel(neurons=10):\n",
    "  \n",
    "  \n",
    "  model = Sequential()\n",
    "  model.add(Dense(50, input_dim=14, activation='relu'))\n",
    "  model.add(Dense(20,activation='relu'))\n",
    "  model.add(Dense(neurons, activation='relu'))\n",
    "  model.add(Dense(1, activation='sigmoid'))\n",
    "\n",
    "  model.compile(optimizer='adam',\n",
    "                loss='binary_crossentropy',\n",
    "                metrics=['accuracy'])\n",
    "  return model\n",
    "\n",
    "model = KerasClassifier(build_fn=createmodel, epochs=10, verbose=2)\n",
    "# define the grid search parameters\n",
    "neurons = [10,15,20]\n",
    "param_grid = dict(neurons=neurons)\n",
    "grid = GridSearchCV(estimator=model, param_grid=param_grid, n_jobs=-1, cv=3)\n",
    "grid_result = grid.fit(std_Xtrain, y_train)\n",
    "\n",
    "print(\"Best: %f using %s\" % (grid_result.best_score_, grid_result.best_params_))\n",
    "means = grid_result.cv_results_['mean_test_score']\n",
    "params = grid_result.cv_results_['params']\n",
    "\n",
    "for mean,param in zip(means,params):\n",
    "    print(\"%f with: %r\" % (mean, param))\n",
    "plt.figure()\n",
    "plt.plot([10,15,20],means)\n",
    "plt.show()"
   ]
  },
  {
   "cell_type": "code",
   "execution_count": 39,
   "metadata": {},
   "outputs": [
    {
     "name": "stdout",
     "output_type": "stream",
     "text": [
      "Epoch 1/10\n",
      " - 7s - loss: 0.2314 - accuracy: 0.9464\n",
      "Epoch 2/10\n",
      " - 7s - loss: 0.0974 - accuracy: 0.9682\n",
      "Epoch 3/10\n",
      " - 7s - loss: 0.0836 - accuracy: 0.9734\n",
      "Epoch 4/10\n",
      " - 8s - loss: 0.0778 - accuracy: 0.9759\n",
      "Epoch 5/10\n",
      " - 7s - loss: 0.0735 - accuracy: 0.9779\n",
      "Epoch 6/10\n",
      " - 8s - loss: 0.0716 - accuracy: 0.9786\n",
      "Epoch 7/10\n",
      " - 7s - loss: 0.0698 - accuracy: 0.9794\n",
      "Epoch 8/10\n",
      " - 7s - loss: 0.0680 - accuracy: 0.9805\n",
      "Epoch 9/10\n",
      " - 7s - loss: 0.0663 - accuracy: 0.9812\n",
      "Epoch 10/10\n",
      " - 7s - loss: 0.0657 - accuracy: 0.9813\n",
      "Best: 0.982013 using {'activation': 'relu'}\n",
      "0.982013 with: {'activation': 'relu'}\n",
      "0.979671 with: {'activation': 'tanh'}\n",
      "0.967644 with: {'activation': 'sigmoid'}\n"
     ]
    },
    {
     "data": {
      "image/png": "[encoded data removed]",
      "text/plain": [
       "<Figure size 432x288 with 1 Axes>"
      ]
     },
     "metadata": {
      "needs_background": "light"
     },
     "output_type": "display_data"
    }
   ],
   "source": [
    "def createmodel(activation=\"relu\"):\n",
    "  \n",
    "  \n",
    "  model = Sequential()\n",
    "  model.add(Dense(50, input_dim=14, activation=activation))\n",
    "  model.add(Dense(20, activation=activation))\n",
    "  model.add(Dense(10, activation=activation))\n",
    "  model.add(Dense(1, activation='sigmoid'))\n",
    "\n",
    "  model.compile(optimizer='adam',\n",
    "                loss='binary_crossentropy',\n",
    "                metrics=['accuracy'])\n",
    "  return model\n",
    "\n",
    "model = KerasClassifier(build_fn=createmodel, epochs=10, verbose=2)\n",
    "# define the grid search parameters\n",
    "activation = ['relu', 'tanh', 'sigmoid']\n",
    "param_grid = dict(activation=activation)\n",
    "grid = GridSearchCV(estimator=model, param_grid=param_grid, n_jobs=-1, cv=3)\n",
    "grid_result = grid.fit(std_Xtrain, y_train)\n",
    "\n",
    "print(\"Best: %f using %s\" % (grid_result.best_score_, grid_result.best_params_))\n",
    "means = grid_result.cv_results_['mean_test_score']\n",
    "params = grid_result.cv_results_['params']\n",
    "\n",
    "for mean,param in zip(means,params):\n",
    "    print(\"%f with: %r\" % (mean, param))\n",
    "plt.figure()\n",
    "plt.bar(activation,means,width=0.5)\n",
    "plt.xlabel(\"Activation functions\")\n",
    "plt.show()\n"
   ]
  },
  {
   "cell_type": "code",
   "execution_count": 41,
   "metadata": {},
   "outputs": [
    {
     "name": "stdout",
     "output_type": "stream",
     "text": [
      "Epoch 1/10\n",
      " - 6s - loss: 0.2134 - accuracy: 0.9213\n",
      "Epoch 2/10\n",
      " - 7s - loss: 0.1477 - accuracy: 0.9440\n",
      "Epoch 3/10\n",
      " - 6s - loss: 0.1262 - accuracy: 0.9515\n",
      "Epoch 4/10\n",
      " - 6s - loss: 0.1148 - accuracy: 0.9568\n",
      "Epoch 5/10\n",
      " - 5s - loss: 0.1051 - accuracy: 0.9621\n",
      "Epoch 6/10\n",
      " - 5s - loss: 0.0950 - accuracy: 0.9656\n",
      "Epoch 7/10\n",
      " - 5s - loss: 0.0782 - accuracy: 0.9683\n",
      "Epoch 8/10\n",
      " - 6s - loss: 0.0666 - accuracy: 0.9716\n",
      "Epoch 9/10\n",
      " - 6s - loss: 0.0599 - accuracy: 0.9747\n",
      "Epoch 10/10\n",
      " - 7s - loss: 0.0555 - accuracy: 0.9759\n",
      "Best: 0.967857 using {'activation': 'sigmoid'}\n",
      "0.817491 with: {'activation': 'relu'}\n",
      "0.565273 with: {'activation': 'tanh'}\n",
      "0.967857 with: {'activation': 'sigmoid'}\n"
     ]
    },
    {
     "data": {
      "image/png": "[encoded data removed]",
      "text/plain": [
       "<Figure size 432x288 with 1 Axes>"
      ]
     },
     "metadata": {
      "needs_background": "light"
     },
     "output_type": "display_data"
    }
   ],
   "source": [
    "def createmodel(activation=\"relu\"):\n",
    "  \n",
    "  \n",
    "  model = Sequential()\n",
    "  model.add(Dense(50, input_dim=14, activation=activation))\n",
    "  model.add(Dense(20, activation=activation))\n",
    "  model.add(Dense(10, activation=activation))\n",
    "  model.add(Dense(1, activation=activation))\n",
    "\n",
    "  model.compile(optimizer='adam',\n",
    "                loss='binary_crossentropy',\n",
    "                metrics=['accuracy'])\n",
    "  return model\n",
    "\n",
    "model = KerasClassifier(build_fn=createmodel, epochs=10, verbose=2)\n",
    "# define the grid search parameters\n",
    "activation = ['relu', 'tanh', 'sigmoid']\n",
    "param_grid = dict(activation=activation)\n",
    "grid = GridSearchCV(estimator=model, param_grid=param_grid, n_jobs=-1, cv=3)\n",
    "grid_result = grid.fit(std_Xtrain, y_train)\n",
    "\n",
    "print(\"Best: %f using %s\" % (grid_result.best_score_, grid_result.best_params_))\n",
    "means1 = grid_result.cv_results_['mean_test_score']\n",
    "params1 = grid_result.cv_results_['params']\n",
    "\n",
    "for mean,param in zip(means1,params1):\n",
    "    print(\"%f with: %r\" % (mean, param))\n",
    "\n",
    "accuracies=[means[0],means[1],means1[0],means1[1],means1[2]]\n",
    "plt.figure()\n",
    "xaxis=[\"Relu+\\nsigmoid\",\"tanh+sigmoid\",\"Only Relu\",\"Only tanh\",\"Sigmoid\"]\n",
    "plt.bar(xaxis,accuracies,color=\"red\",width=0.5)\n",
    "plt.xlabel(\"Activation functions\")\n",
    "plt.ylabel(\"Accuracy Rate\")\n",
    "plt.title(\"Accuracies for various activation functions\",)\n",
    "plt.show()\n"
   ]
  },
  {
   "cell_type": "code",
   "execution_count": 42,
   "metadata": {},
   "outputs": [
    {
     "name": "stdout",
     "output_type": "stream",
     "text": [
      "Epoch 1/10\n",
      " - 5s - loss: 0.1189 - accuracy: 0.9478\n",
      "Epoch 2/10\n",
      " - 5s - loss: 0.0656 - accuracy: 0.9715\n",
      "Epoch 3/10\n",
      " - 6s - loss: 0.0530 - accuracy: 0.9768\n",
      "Epoch 4/10\n",
      " - 6s - loss: 0.0471 - accuracy: 0.9792\n",
      "Epoch 5/10\n",
      " - 5s - loss: 0.0437 - accuracy: 0.9810\n",
      "Epoch 6/10\n",
      " - 6s - loss: 0.0408 - accuracy: 0.9824\n",
      "Epoch 7/10\n",
      " - 7s - loss: 0.0393 - accuracy: 0.9833\n",
      "Epoch 8/10\n",
      " - 6s - loss: 0.0376 - accuracy: 0.9838\n",
      "Epoch 9/10\n",
      " - 6s - loss: 0.0353 - accuracy: 0.9851\n",
      "Epoch 10/10\n",
      " - 6s - loss: 0.0339 - accuracy: 0.9851\n",
      "Best: 0.982184 using {'optimizer': 'Adam'}\n",
      "0.964623 with: {'optimizer': 'SGD'}\n",
      "0.978187 with: {'optimizer': 'RMSprop'}\n",
      "0.967473 with: {'optimizer': 'Adagrad'}\n",
      "0.978536 with: {'optimizer': 'Adadelta'}\n",
      "0.982184 with: {'optimizer': 'Adam'}\n",
      "0.980067 with: {'optimizer': 'Adamax'}\n"
     ]
    },
    {
     "data": {
      "image/png": "[encoded data removed]",
      "text/plain": [
       "<Figure size 432x288 with 1 Axes>"
      ]
     },
     "metadata": {
      "needs_background": "light"
     },
     "output_type": "display_data"
    }
   ],
   "source": [
    "def createmodel(optimizer=\"adam\"):\n",
    "  \n",
    "  \n",
    "  model = Sequential()\n",
    "  model.add(Dense(50, input_dim=14, activation=\"relu\"))\n",
    "  model.add(Dense(20, activation=\"relu\"))\n",
    "  model.add(Dense(10, activation=\"relu\"))\n",
    "  model.add(Dense(1, activation=\"sigmoid\"))\n",
    "\n",
    "  model.compile(optimizer=optimizer,\n",
    "                loss='binary_crossentropy',\n",
    "                metrics=['accuracy'])\n",
    "  return model\n",
    "\n",
    "model = KerasClassifier(build_fn=createmodel, epochs=10, verbose=2)\n",
    "# define the grid search parameters\n",
    "optimizer = ['SGD', 'RMSprop', 'Adagrad', 'Adadelta', 'Adam', 'Adamax']\n",
    "param_grid = dict(optimizer=optimizer)\n",
    "grid = GridSearchCV(estimator=model, param_grid=param_grid, n_jobs=-1, cv=3)\n",
    "grid_result = grid.fit(std_Xtrain, y_train)\n",
    "\n",
    "print(\"Best: %f using %s\" % (grid_result.best_score_, grid_result.best_params_))\n",
    "means1 = grid_result.cv_results_['mean_test_score']\n",
    "params1 = grid_result.cv_results_['params']\n",
    "for mean,param in zip(means1,params1):\n",
    "    print(\"%f with: %r\" % (mean, param))\n",
    "    \n",
    "plt.bar(optimizer,means1,color=\"green\",width=0.5)\n",
    "plt.xlabel(\"Optimizers\")\n",
    "plt.ylabel(\"Accuracy Rate\")\n",
    "plt.title(\"Accuracies for various optimizers\",)\n",
    "plt.show()"
   ]
  },
  {
   "cell_type": "code",
   "execution_count": 47,
   "metadata": {},
   "outputs": [
    {
     "name": "stdout",
     "output_type": "stream",
     "text": [
      "Epoch 1/10\n",
      "169120/169120 [==============================] - 13s 77us/step - loss: 0.1846 - accuracy: 0.9305\n",
      "Epoch 2/10\n",
      "169120/169120 [==============================] - 13s 75us/step - loss: 0.1002 - accuracy: 0.9620\n",
      "Epoch 3/10\n",
      "169120/169120 [==============================] - 13s 76us/step - loss: 0.0863 - accuracy: 0.9666\n",
      "Epoch 4/10\n",
      "169120/169120 [==============================] - 13s 77us/step - loss: 0.0768 - accuracy: 0.9703\n",
      "Epoch 5/10\n",
      "169120/169120 [==============================] - 13s 77us/step - loss: 0.0707 - accuracy: 0.9724\n",
      "Epoch 6/10\n",
      "169120/169120 [==============================] - 13s 79us/step - loss: 0.0664 - accuracy: 0.9741\n",
      "Epoch 7/10\n",
      "169120/169120 [==============================] - 14s 82us/step - loss: 0.0636 - accuracy: 0.9756\n",
      "Epoch 8/10\n",
      "169120/169120 [==============================] - 14s 84us/step - loss: 0.0600 - accuracy: 0.9773\n",
      "Epoch 9/10\n",
      "169120/169120 [==============================] - 14s 82us/step - loss: 0.0586 - accuracy: 0.9779\n",
      "Epoch 10/10\n",
      "169120/169120 [==============================] - 14s 82us/step - loss: 0.0565 - accuracy: 0.9788\n",
      "\n",
      "Test accuracy: 0.98271244764328\n",
      "\n",
      "Train accuracy: 0.9837393760681152\n"
     ]
    }
   ],
   "source": [
    "model = Sequential()\n",
    "model.add(Dense(50, input_dim=14, activation=\"relu\"))\n",
    "model.add(Dense(20, activation=\"relu\"))\n",
    "model.add(Dense(10, activation=\"relu\"))\n",
    "model.add(Dropout(0.0))\n",
    "\n",
    "model.add(Dense(1, activation=\"sigmoid\"))\n",
    "\n",
    "model.compile(optimizer=\"Adam\",\n",
    "              loss='binary_crossentropy',\n",
    "              metrics=['accuracy'])\n",
    "model.fit(std_Xtrain, y_train, epochs=10)\n",
    "test_loss3, test_acc3 = model.evaluate(std_Xtest,  y_test, verbose=2)\n",
    "train_loss3,train_acc3 = model.evaluate(std_Xtrain,  y_train, verbose=2)\n",
    "\n",
    "print('\\nTest accuracy:', test_acc3)\n",
    "print('\\nTrain accuracy:', train_acc3)"
   ]
  },
  {
   "cell_type": "code",
   "execution_count": 49,
   "metadata": {},
   "outputs": [
    {
     "name": "stdout",
     "output_type": "stream",
     "text": [
      "Epoch 1/10\n",
      " - 12s - loss: 0.1225 - accuracy: 0.9477\n",
      "Epoch 2/10\n",
      " - 10s - loss: 0.0747 - accuracy: 0.9676\n",
      "Epoch 3/10\n",
      " - 11s - loss: 0.0629 - accuracy: 0.9726\n",
      "Epoch 4/10\n",
      " - 11s - loss: 0.0538 - accuracy: 0.9766\n",
      "Epoch 5/10\n",
      " - 11s - loss: 0.0473 - accuracy: 0.9794\n",
      "Epoch 6/10\n",
      " - 11s - loss: 0.0433 - accuracy: 0.9814\n",
      "Epoch 7/10\n",
      " - 11s - loss: 0.0406 - accuracy: 0.9826\n",
      "Epoch 8/10\n",
      " - 8s - loss: 0.0385 - accuracy: 0.9837\n",
      "Epoch 9/10\n",
      " - 9s - loss: 0.0369 - accuracy: 0.9845\n",
      "Epoch 10/10\n",
      " - 11s - loss: 0.0353 - accuracy: 0.9854\n",
      "Best: 0.982634 using {'dropout_rate': 0.0}\n",
      "0.982634 with: {'dropout_rate': 0.0}\n",
      "0.981380 with: {'dropout_rate': 0.1}\n",
      "0.976248 with: {'dropout_rate': 0.2}\n",
      "0.979955 with: {'dropout_rate': 0.3}\n",
      "0.979760 with: {'dropout_rate': 0.4}\n",
      "0.977105 with: {'dropout_rate': 0.5}\n",
      "0.975242 with: {'dropout_rate': 0.6}\n",
      "0.974403 with: {'dropout_rate': 0.7}\n",
      "0.813281 with: {'dropout_rate': 0.8}\n",
      "0.860271 with: {'dropout_rate': 0.9}\n"
     ]
    },
    {
     "data": {
      "image/png": "[encoded data removed]",
      "text/plain": [
       "<Figure size 432x288 with 1 Axes>"
      ]
     },
     "metadata": {
      "needs_background": "light"
     },
     "output_type": "display_data"
    }
   ],
   "source": [
    "from keras.layers import Dropout\n",
    "\n",
    "def createmodel(dropout_rate=0.0):\n",
    "  \n",
    "  \n",
    "  model = Sequential()\n",
    "  model.add(Dense(50, input_dim=14, activation=\"relu\"))\n",
    "  model.add(Dense(20, activation=\"relu\"))\n",
    "  model.add(Dense(10, activation=\"relu\"))\n",
    "  model.add(Dropout(dropout_rate))\n",
    "\n",
    "  model.add(Dense(1, activation=\"sigmoid\"))\n",
    "\n",
    "  model.compile(optimizer=\"Adam\",\n",
    "                loss='binary_crossentropy',\n",
    "                metrics=['accuracy'])\n",
    "  return model\n",
    "\n",
    "model = KerasClassifier(build_fn=createmodel, epochs=10, verbose=2)\n",
    "# define the grid search parameters\n",
    "dropout_rate = [0.0, 0.1, 0.2, 0.3, 0.4, 0.5, 0.6, 0.7, 0.8, 0.9]\n",
    "param_grid = dict(dropout_rate=dropout_rate)\n",
    "grid = GridSearchCV(estimator=model, param_grid=param_grid, n_jobs=-1, cv=3)\n",
    "grid_result = grid.fit(std_Xtrain, y_train)\n",
    "\n",
    "print(\"Best: %f using %s\" % (grid_result.best_score_, grid_result.best_params_))\n",
    "means1 = grid_result.cv_results_['mean_test_score']\n",
    "params1 = grid_result.cv_results_['params']\n",
    "for mean,param in zip(means1,params1):\n",
    "    print(\"%f with: %r\" % (mean, param))\n",
    "    \n",
    "plt.figure()\n",
    "plt.bar(dropout_rate,means1,color=\"red\",width=0.05)\n",
    "plt.xticks(dropout_rate)\n",
    "plt.xlabel(\"Dropout Rate\")\n",
    "plt.ylabel(\"Accuracy Rate\")\n",
    "plt.title(\"Accuracies for various Dropout rates\")\n",
    "plt.show()"
   ]
  },
  {
   "cell_type": "code",
   "execution_count": 15,
   "metadata": {},
   "outputs": [],
   "source": [
    "#KNN"
   ]
  },
  {
   "cell_type": "code",
   "execution_count": 14,
   "metadata": {},
   "outputs": [
    {
     "name": "stdout",
     "output_type": "stream",
     "text": [
      "217.571953093958\n"
     ]
    },
    {
     "data": {
      "text/plain": [
       "(72480,)"
      ]
     },
     "execution_count": 14,
     "metadata": {},
     "output_type": "execute_result"
    }
   ],
   "source": [
    "from sklearn.preprocessing import StandardScaler\n",
    "from sklearn.metrics import confusion_matrix, classification_report, roc_curve, accuracy_score, roc_auc_score\n",
    "from sklearn.model_selection import train_test_split\n",
    "import pandas as pd\n",
    "import numpy as np\n",
    "import os\n",
    "os.chdir('C:/Users/manit/OneDrive/Desktop/Masters/Spring20/Sabir/data')\n",
    "df = pd.read_csv(\"sgemm_product.csv\")\n",
    "pd.DataFrame.rename(df,columns={'Run1 (ms)':'Run1','Run2 (ms)':'Run2','Run3 (ms)':'Run3', 'Run4 (ms)':'Run4'},inplace =True)\n",
    "df['AverageRun']=df.apply(lambda row:(row.Run1+row.Run2+row.Run3+row.Run4)/4,axis=1)\n",
    "df = df.drop([\"Run1\",\"Run2\",\"Run3\",\"Run4\"], axis=1)\n",
    "\n",
    "mean_run=np.mean(df[\"AverageRun\"],axis=0)\n",
    "print(mean_run)\n",
    "df[\"run_class\"]=np.where(df['AverageRun']>=mean_run, 1, 0)\n",
    "y=df[\"run_class\"].astype(\"category\")\n",
    "x=df.iloc[:,0:14]\n",
    "\n",
    "from sklearn import preprocessing\n",
    "from sklearn.model_selection import train_test_split\n",
    "x_train, x_test, y_train, y_test = train_test_split(x, y, train_size=0.7, random_state=1)\n",
    "scaler = StandardScaler()\n",
    "\n",
    "scaler.fit(x_train)\n",
    "\n",
    "std_Xtrain = scaler.transform(x_train)\n",
    "std_Xtest = scaler.transform(x_test)\n",
    "std_Xtrain.shape\n",
    "std_Xtest.shape\n",
    "y_test.shape"
   ]
  },
  {
   "cell_type": "code",
   "execution_count": 16,
   "metadata": {},
   "outputs": [],
   "source": [
    "from sklearn.neighbors import KNeighborsClassifier\n",
    "classifier = KNeighborsClassifier(n_neighbors=5)\n",
    "classifier.fit(std_Xtrain, y_train)\n",
    "y_pred = classifier.predict(std_Xtrain)"
   ]
  },
  {
   "cell_type": "code",
   "execution_count": 18,
   "metadata": {},
   "outputs": [],
   "source": [
    "train_error = []\n",
    "test_error=[]\n",
    "train_accuracies=[]\n",
    "test_accuracies=[]\n",
    "\n",
    "# Calculating error for K values between 1 and 40\n",
    "for i in range(2, 15):\n",
    "    knn = KNeighborsClassifier(n_neighbors=i,metric=\"euclidean\")\n",
    "    knn.fit(std_Xtrain, y_train)\n",
    "    train_pred=knn.predict(std_Xtrain)\n",
    "\n",
    "    test_pred = knn.predict(std_Xtest)\n",
    "    \n",
    "    train_accuracies.append(accuracy_score(y_train,train_pred))\n",
    "    test_accuracies.append(accuracy_score(y_test,test_pred))\n",
    "    train_error.append(np.mean(y_train!=train_pred))\n",
    "    test_error.append(np.mean(y_test!=test_pred))"
   ]
  },
  {
   "cell_type": "code",
   "execution_count": 19,
   "metadata": {},
   "outputs": [
    {
     "data": {
      "text/plain": [
       "Text(0, 0.5, 'Mean Error')"
      ]
     },
     "execution_count": 19,
     "metadata": {},
     "output_type": "execute_result"
    }
   ],
   "source": [
    "import matplotlib.pyplot as plt \n",
    "plt.figure(figsize=(12, 6))\n",
    "plt.plot(range(2, 15),train_error, marker='o' ,color='red' )\n",
    "plt.plot(range(2, 15),test_error, marker='o' ,color='blue' )\n",
    "\n",
    "plt.title('KNN - Euclidean')\n",
    "plt.xlabel('K Value')\n",
    "plt.ylabel('Mean Error')"
   ]
  },
  {
   "cell_type": "code",
   "execution_count": null,
   "metadata": {},
   "outputs": [],
   "source": [
    "train_error = []\n",
    "test_error=[]\n",
    "train_accuracies=[]\n",
    "test_accuracies=[]\n",
    "\n",
    "# Calculating error for K values between 1 and 40\n",
    "for i in range(2, 15):\n",
    "    knn = KNeighborsClassifier(n_neighbors=i,metric=\"euclidean\")\n",
    "    knn.fit(std_Xtrain, y_train)\n",
    "    train_pred=knn.predict(std_Xtrain)\n",
    "\n",
    "    test_pred = knn.predict(std_Xtest)\n",
    "    \n",
    "    train_accuracies.append(accuracy_score(y_train,train_pred))\n",
    "    test_accuracies.append(accuracy_score(y_test,test_pred))\n",
    "    train_error.append(np.mean(y_train!=train_pred))\n",
    "    test_error.append(np.mean(y_test!=test_pred))"
   ]
  },
  {
   "cell_type": "code",
   "execution_count": null,
   "metadata": {},
   "outputs": [],
   "source": [
    "import matplotlib.pyplot as plt \n",
    "plt.figure(figsize=(12, 6))\n",
    "plt.plot(range(2, 15),train_error, marker='o' ,color='red' )\n",
    "plt.plot(range(2, 15),test_error, marker='o' ,color='blue' )\n",
    "\n",
    "plt.title('KNN - Euclidean')\n",
    "plt.xlabel('K Value')\n",
    "plt.ylabel('Mean Error')"
   ]
  },
  {
   "cell_type": "code",
   "execution_count": 20,
   "metadata": {},
   "outputs": [],
   "source": [
    "#Manhattan\n",
    "train_error = []\n",
    "test_error=[]\n",
    "train_accuracies=[]\n",
    "test_accuracies=[]\n",
    "# Calculating error for K values between 1 and 40\n",
    "for i in range(2, 15):\n",
    "    knn = KNeighborsClassifier(n_neighbors=i,metric=\"manhattan\")\n",
    "    knn.fit(std_Xtrain, y_train)\n",
    "    train_pred=knn.predict(std_Xtrain)\n",
    "\n",
    "    test_pred = knn.predict(std_Xtest)\n",
    "    \n",
    "    train_accuracies.append(accuracy_score(y_train,train_pred))\n",
    "    test_accuracies.append(accuracy_score(y_test,test_pred))\n",
    "    train_error.append(np.mean(y_train!=train_pred))\n",
    "    test_error.append(np.mean(y_test!=test_pred))"
   ]
  },
  {
   "cell_type": "code",
   "execution_count": 21,
   "metadata": {},
   "outputs": [
    {
     "data": {
      "text/plain": [
       "Text(0, 0.5, 'Mean Error')"
      ]
     },
     "execution_count": 21,
     "metadata": {},
     "output_type": "execute_result"
    },
    {
     "data": {
      "image/png": "[encoded data removed]",
      "text/plain": [
       "<Figure size 864x432 with 1 Axes>"
      ]
     },
     "metadata": {
      "needs_background": "light"
     },
     "output_type": "display_data"
    }
   ],
   "source": [
    "plt.figure(figsize=(12, 6))\n",
    "plt.plot(range(2, 15),train_error, marker='o' ,color='red' )\n",
    "plt.plot(range(2, 15),test_error, marker='o' ,color='blue' )\n",
    "\n",
    "plt.title('KNN - Manhattan')\n",
    "plt.xlabel('K Value')\n",
    "plt.ylabel('Mean Error')"
   ]
  },
  {
   "cell_type": "code",
   "execution_count": 22,
   "metadata": {},
   "outputs": [
    {
     "name": "stdout",
     "output_type": "stream",
     "text": [
      "              precision    recall  f1-score   support\n",
      "\n",
      "           0       0.93      0.99      0.96     53708\n",
      "           1       0.96      0.80      0.87     18772\n",
      "\n",
      "    accuracy                           0.94     72480\n",
      "   macro avg       0.95      0.89      0.92     72480\n",
      "weighted avg       0.94      0.94      0.94     72480\n",
      "\n",
      "[[53085   623]\n",
      " [ 3771 15001]]\n",
      "0.9393763796909492\n"
     ]
    }
   ],
   "source": [
    "knn = KNeighborsClassifier(n_neighbors=8,metric=\"manhattan\")\n",
    "knn.fit(std_Xtrain, y_train)\n",
    "train_pred=knn.predict(std_Xtrain)\n",
    "\n",
    "test_pred = knn.predict(std_Xtest)\n",
    "print(classification_report(y_test,test_pred))\n",
    "print(confusion_matrix(y_test,test_pred))\n",
    "print(accuracy_score(y_test,test_pred))"
   ]
  },
  {
   "cell_type": "code",
   "execution_count": null,
   "metadata": {},
   "outputs": [],
   "source": []
  }
 ],
 "metadata": {
  "kernelspec": {
   "display_name": "Python 3",
   "language": "python",
   "name": "python3"
  }
 },
 "nbformat": 4,
 "nbformat_minor": 4
}
